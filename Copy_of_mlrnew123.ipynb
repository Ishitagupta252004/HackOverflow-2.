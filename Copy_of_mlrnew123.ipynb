{
  "nbformat": 4,
  "nbformat_minor": 0,
  "metadata": {
    "colab": {
      "provenance": []
    },
    "kernelspec": {
      "name": "python3",
      "display_name": "Python 3"
    },
    "language_info": {
      "name": "python"
    }
  },
  "cells": [
    {
      "cell_type": "code",
      "execution_count": null,
      "metadata": {
        "id": "RvWjgq17Y0CM"
      },
      "outputs": [],
      "source": [
        "import numpy as nm  \n",
        "import matplotlib.pyplot as mtp \n",
        "import pandas as pd\n",
        "data_set= pd.read_csv('ishita.csv')\n"
      ]
    },
    {
      "cell_type": "code",
      "source": [
        "data_set.head()"
      ],
      "metadata": {
        "colab": {
          "base_uri": "https://localhost:8080/",
          "height": 206
        },
        "id": "ndpUShTbMc0p",
        "outputId": "ca6e2e73-2e86-4776-fd9c-6de5d7293ec8"
      },
      "execution_count": null,
      "outputs": [
        {
          "output_type": "execute_result",
          "data": {
            "text/plain": [
              "   country  year  loss  Unnamed: 3\n",
              "0  Burundi  2020  2.00         NaN\n",
              "1  Burundi  2020  1.18         NaN\n",
              "2  Burundi  2020  2.50         NaN\n",
              "3  Burundi  2020  2.50         NaN\n",
              "4  Burundi  2020  3.50         NaN"
            ],
            "text/html": [
              "\n",
              "  <div id=\"df-8f8f798f-cfee-435f-9967-3a628871005a\">\n",
              "    <div class=\"colab-df-container\">\n",
              "      <div>\n",
              "<style scoped>\n",
              "    .dataframe tbody tr th:only-of-type {\n",
              "        vertical-align: middle;\n",
              "    }\n",
              "\n",
              "    .dataframe tbody tr th {\n",
              "        vertical-align: top;\n",
              "    }\n",
              "\n",
              "    .dataframe thead th {\n",
              "        text-align: right;\n",
              "    }\n",
              "</style>\n",
              "<table border=\"1\" class=\"dataframe\">\n",
              "  <thead>\n",
              "    <tr style=\"text-align: right;\">\n",
              "      <th></th>\n",
              "      <th>country</th>\n",
              "      <th>year</th>\n",
              "      <th>loss</th>\n",
              "      <th>Unnamed: 3</th>\n",
              "    </tr>\n",
              "  </thead>\n",
              "  <tbody>\n",
              "    <tr>\n",
              "      <th>0</th>\n",
              "      <td>Burundi</td>\n",
              "      <td>2020</td>\n",
              "      <td>2.00</td>\n",
              "      <td>NaN</td>\n",
              "    </tr>\n",
              "    <tr>\n",
              "      <th>1</th>\n",
              "      <td>Burundi</td>\n",
              "      <td>2020</td>\n",
              "      <td>1.18</td>\n",
              "      <td>NaN</td>\n",
              "    </tr>\n",
              "    <tr>\n",
              "      <th>2</th>\n",
              "      <td>Burundi</td>\n",
              "      <td>2020</td>\n",
              "      <td>2.50</td>\n",
              "      <td>NaN</td>\n",
              "    </tr>\n",
              "    <tr>\n",
              "      <th>3</th>\n",
              "      <td>Burundi</td>\n",
              "      <td>2020</td>\n",
              "      <td>2.50</td>\n",
              "      <td>NaN</td>\n",
              "    </tr>\n",
              "    <tr>\n",
              "      <th>4</th>\n",
              "      <td>Burundi</td>\n",
              "      <td>2020</td>\n",
              "      <td>3.50</td>\n",
              "      <td>NaN</td>\n",
              "    </tr>\n",
              "  </tbody>\n",
              "</table>\n",
              "</div>\n",
              "      <button class=\"colab-df-convert\" onclick=\"convertToInteractive('df-8f8f798f-cfee-435f-9967-3a628871005a')\"\n",
              "              title=\"Convert this dataframe to an interactive table.\"\n",
              "              style=\"display:none;\">\n",
              "        \n",
              "  <svg xmlns=\"http://www.w3.org/2000/svg\" height=\"24px\"viewBox=\"0 0 24 24\"\n",
              "       width=\"24px\">\n",
              "    <path d=\"M0 0h24v24H0V0z\" fill=\"none\"/>\n",
              "    <path d=\"M18.56 5.44l.94 2.06.94-2.06 2.06-.94-2.06-.94-.94-2.06-.94 2.06-2.06.94zm-11 1L8.5 8.5l.94-2.06 2.06-.94-2.06-.94L8.5 2.5l-.94 2.06-2.06.94zm10 10l.94 2.06.94-2.06 2.06-.94-2.06-.94-.94-2.06-.94 2.06-2.06.94z\"/><path d=\"M17.41 7.96l-1.37-1.37c-.4-.4-.92-.59-1.43-.59-.52 0-1.04.2-1.43.59L10.3 9.45l-7.72 7.72c-.78.78-.78 2.05 0 2.83L4 21.41c.39.39.9.59 1.41.59.51 0 1.02-.2 1.41-.59l7.78-7.78 2.81-2.81c.8-.78.8-2.07 0-2.86zM5.41 20L4 18.59l7.72-7.72 1.47 1.35L5.41 20z\"/>\n",
              "  </svg>\n",
              "      </button>\n",
              "      \n",
              "  <style>\n",
              "    .colab-df-container {\n",
              "      display:flex;\n",
              "      flex-wrap:wrap;\n",
              "      gap: 12px;\n",
              "    }\n",
              "\n",
              "    .colab-df-convert {\n",
              "      background-color: #E8F0FE;\n",
              "      border: none;\n",
              "      border-radius: 50%;\n",
              "      cursor: pointer;\n",
              "      display: none;\n",
              "      fill: #1967D2;\n",
              "      height: 32px;\n",
              "      padding: 0 0 0 0;\n",
              "      width: 32px;\n",
              "    }\n",
              "\n",
              "    .colab-df-convert:hover {\n",
              "      background-color: #E2EBFA;\n",
              "      box-shadow: 0px 1px 2px rgba(60, 64, 67, 0.3), 0px 1px 3px 1px rgba(60, 64, 67, 0.15);\n",
              "      fill: #174EA6;\n",
              "    }\n",
              "\n",
              "    [theme=dark] .colab-df-convert {\n",
              "      background-color: #3B4455;\n",
              "      fill: #D2E3FC;\n",
              "    }\n",
              "\n",
              "    [theme=dark] .colab-df-convert:hover {\n",
              "      background-color: #434B5C;\n",
              "      box-shadow: 0px 1px 3px 1px rgba(0, 0, 0, 0.15);\n",
              "      filter: drop-shadow(0px 1px 2px rgba(0, 0, 0, 0.3));\n",
              "      fill: #FFFFFF;\n",
              "    }\n",
              "  </style>\n",
              "\n",
              "      <script>\n",
              "        const buttonEl =\n",
              "          document.querySelector('#df-8f8f798f-cfee-435f-9967-3a628871005a button.colab-df-convert');\n",
              "        buttonEl.style.display =\n",
              "          google.colab.kernel.accessAllowed ? 'block' : 'none';\n",
              "\n",
              "        async function convertToInteractive(key) {\n",
              "          const element = document.querySelector('#df-8f8f798f-cfee-435f-9967-3a628871005a');\n",
              "          const dataTable =\n",
              "            await google.colab.kernel.invokeFunction('convertToInteractive',\n",
              "                                                     [key], {});\n",
              "          if (!dataTable) return;\n",
              "\n",
              "          const docLinkHtml = 'Like what you see? Visit the ' +\n",
              "            '<a target=\"_blank\" href=https://colab.research.google.com/notebooks/data_table.ipynb>data table notebook</a>'\n",
              "            + ' to learn more about interactive tables.';\n",
              "          element.innerHTML = '';\n",
              "          dataTable['output_type'] = 'display_data';\n",
              "          await google.colab.output.renderOutput(dataTable, element);\n",
              "          const docLink = document.createElement('div');\n",
              "          docLink.innerHTML = docLinkHtml;\n",
              "          element.appendChild(docLink);\n",
              "        }\n",
              "      </script>\n",
              "    </div>\n",
              "  </div>\n",
              "  "
            ]
          },
          "metadata": {},
          "execution_count": 98
        }
      ]
    },
    {
      "cell_type": "code",
      "source": [
        "x= data_set.iloc[:, :-2].values  \n",
        "y= data_set.iloc[:, 2].values\n",
        "print(x)\n",
        "print(y)"
      ],
      "metadata": {
        "colab": {
          "base_uri": "https://localhost:8080/"
        },
        "id": "IgtceuNO00AR",
        "outputId": "299351cc-679a-4c3b-90b0-9a903f529c86"
      },
      "execution_count": null,
      "outputs": [
        {
          "output_type": "stream",
          "name": "stdout",
          "text": [
            "[['Burundi' 2020]\n",
            " ['Burundi' 2020]\n",
            " ['Burundi' 2020]\n",
            " ...\n",
            " ['Zambia' 2000]\n",
            " ['Zambia' 2000]\n",
            " ['Zambia' 2000]]\n",
            "[2.   1.18 2.5  ... 1.   2.38 3.44]\n"
          ]
        }
      ]
    },
    {
      "cell_type": "code",
      "source": [
        "from sklearn import preprocessing\n",
        "le = preprocessing.LabelEncoder()\n",
        "x[:,0] = le.fit_transform(x[:,0])"
      ],
      "metadata": {
        "id": "FfV05NnH5cOe"
      },
      "execution_count": null,
      "outputs": []
    },
    {
      "cell_type": "code",
      "source": [
        "from sklearn.model_selection import train_test_split  \n",
        "x_train, x_test, y_train, y_test= train_test_split(x, y, test_size= 1/3, random_state=0)  \n"
      ],
      "metadata": {
        "id": "ha7g7JfU1hph"
      },
      "execution_count": null,
      "outputs": []
    },
    {
      "cell_type": "code",
      "source": [
        "from sklearn.preprocessing import StandardScaler\n",
        "sc=StandardScaler()\n",
        "x_train1=sc.fit_transform(x_train)\n",
        "x_test1=sc.transform(x_test)"
      ],
      "metadata": {
        "id": "eH5U9yPyKjfg"
      },
      "execution_count": null,
      "outputs": []
    },
    {
      "cell_type": "code",
      "source": [
        "from sklearn.preprocessing import PolynomialFeatures  \n",
        "poly_regs= PolynomialFeatures(degree= 3)  \n",
        "x_poly= poly_regs.fit_transform(x)  \n",
        "lin_reg_2 =LinearRegression()  \n",
        "lin_reg_2.fit(x_poly, y) "
      ],
      "metadata": {
        "id": "QU1sJtFi1q84"
      },
      "execution_count": null,
      "outputs": []
    },
    {
      "cell_type": "code",
      "source": [
        "y_pred= reg1.predict(x_test)  \n",
        "x_pred= reg1.predict(x_train)  \n",
        "\n"
      ],
      "metadata": {
        "id": "ECz14V7n8yb2"
      },
      "execution_count": null,
      "outputs": []
    },
    {
      "cell_type": "code",
      "source": [
        "pred_df=pd.DataFrame({'Actual Value':y_test,'Predicted Value':y_pred,'Difference':y_test-y_pred})\n",
        "print(pred_df)"
      ],
      "metadata": {
        "colab": {
          "base_uri": "https://localhost:8080/"
        },
        "id": "Z853ndPMC8r2",
        "outputId": "55bfd5a3-94b5-419b-8998-d9439206df5e"
      },
      "execution_count": null,
      "outputs": [
        {
          "output_type": "stream",
          "name": "stdout",
          "text": [
            "      Actual Value  Predicted Value  Difference\n",
            "0             2.21         2.088285    0.121715\n",
            "1             2.50         2.231133    0.268867\n",
            "2             3.50         2.253987    1.246013\n",
            "3             3.50         2.141932    1.358068\n",
            "4             2.50         2.091142    0.408858\n",
            "...            ...              ...         ...\n",
            "1100          2.50         2.172406    0.327594\n",
            "1101          2.50         2.136852    0.363148\n",
            "1102          2.50         2.169232    0.330768\n",
            "1103          2.50         2.159391    0.340609\n",
            "1104          2.00         2.058763   -0.058763\n",
            "\n",
            "[1105 rows x 3 columns]\n"
          ]
        }
      ]
    },
    {
      "cell_type": "code",
      "source": [
        "#SVR\n",
        "from sklearn.svm import SVR\n",
        "reg2=SVR(kernel='rbf')\n",
        "reg2.fit(x_train,y_train)"
      ],
      "metadata": {
        "colab": {
          "base_uri": "https://localhost:8080/"
        },
        "id": "6zcE5_ox9PIE",
        "outputId": "fda31a07-3b41-4517-a7c9-3e386a274d59"
      },
      "execution_count": null,
      "outputs": [
        {
          "output_type": "execute_result",
          "data": {
            "text/plain": [
              "SVR()"
            ]
          },
          "metadata": {},
          "execution_count": 123
        }
      ]
    },
    {
      "cell_type": "code",
      "source": [
        "y_pred1= reg2.predict(x_test)\n",
        "x_pred1= reg2.predict(x_train)"
      ],
      "metadata": {
        "id": "iM-4XZWRFbpf"
      },
      "execution_count": null,
      "outputs": []
    },
    {
      "cell_type": "code",
      "source": [
        "pred_df=pd.DataFrame({'Actual Value':y_test,'Predicted Value':y_pred1,'Difference':y_test-y_pred1})\n",
        "print(pred_df)"
      ],
      "metadata": {
        "colab": {
          "base_uri": "https://localhost:8080/"
        },
        "id": "JXSy6UowIlzL",
        "outputId": "6c7601ed-e4d1-407a-94e1-d6dd7913679a"
      },
      "execution_count": null,
      "outputs": [
        {
          "output_type": "stream",
          "name": "stdout",
          "text": [
            "      Actual Value  Predicted Value  Difference\n",
            "0             2.21         2.099994    0.110006\n",
            "1             2.50         2.100089    0.399911\n",
            "2             3.50         2.099969    1.400031\n",
            "3             3.50         2.099994    1.400006\n",
            "4             2.50         2.099979    0.400021\n",
            "...            ...              ...         ...\n",
            "1100          2.50         2.100003    0.399997\n",
            "1101          2.50         2.099908    0.400092\n",
            "1102          2.50         2.100076    0.399924\n",
            "1103          2.50         2.100015    0.399985\n",
            "1104          2.00         2.099980   -0.099980\n",
            "\n",
            "[1105 rows x 3 columns]\n"
          ]
        }
      ]
    },
    {
      "cell_type": "code",
      "source": [
        "#random forrest\n",
        "from sklearn.ensemble import RandomForestRegressor\n",
        "reg3=RandomForestRegressor(n_estimators=100,random_state=0)\n",
        "reg3.fit(x_train,y_train)"
      ],
      "metadata": {
        "colab": {
          "base_uri": "https://localhost:8080/"
        },
        "id": "99iBks1rItNf",
        "outputId": "187fd44a-881a-44de-f2f1-9e1202d2ca43"
      },
      "execution_count": null,
      "outputs": [
        {
          "output_type": "execute_result",
          "data": {
            "text/plain": [
              "RandomForestRegressor(random_state=0)"
            ]
          },
          "metadata": {},
          "execution_count": 126
        }
      ]
    },
    {
      "cell_type": "code",
      "source": [
        "y_pred2=reg3.predict(x_test)"
      ],
      "metadata": {
        "id": "I3PlLCmvI4uy"
      },
      "execution_count": null,
      "outputs": []
    },
    {
      "cell_type": "code",
      "source": [
        "pred_df=pd.DataFrame({'Actual Value':y_test,'Predicted Value':y_pred2,'Difference':y_test-y_pred2})\n",
        "print(pred_df)"
      ],
      "metadata": {
        "colab": {
          "base_uri": "https://localhost:8080/"
        },
        "id": "1rRdvSooI9mG",
        "outputId": "b15bbbb3-4427-4cd8-8ed2-671b78794335"
      },
      "execution_count": null,
      "outputs": [
        {
          "output_type": "stream",
          "name": "stdout",
          "text": [
            "      Actual Value  Predicted Value  Difference\n",
            "0             2.21         1.871419    0.338581\n",
            "1             2.50         2.435183    0.064817\n",
            "2             3.50         1.492840    2.007160\n",
            "3             3.50         1.795678    1.704322\n",
            "4             2.50         2.294051    0.205949\n",
            "...            ...              ...         ...\n",
            "1100          2.50         2.122245    0.377755\n",
            "1101          2.50         1.897352    0.602648\n",
            "1102          2.50         2.176706    0.323294\n",
            "1103          2.50         1.605163    0.894837\n",
            "1104          2.00         1.935015    0.064985\n",
            "\n",
            "[1105 rows x 3 columns]\n"
          ]
        }
      ]
    },
    {
      "cell_type": "code",
      "source": [
        "from sklearn.metrics import r2_score\n",
        "print('accuracy of LR',r2_score(y_test,y_pred))\n",
        "print('accuracy of SVR',r2_score(y_test,y_pred1))\n",
        "print('accuracy of DT',r2_score(y_test,y_pred2))"
      ],
      "metadata": {
        "colab": {
          "base_uri": "https://localhost:8080/"
        },
        "id": "vnfEz-EeJA9J",
        "outputId": "18cd0415-b368-451a-c072-f1e75afd2bc1"
      },
      "execution_count": null,
      "outputs": [
        {
          "output_type": "stream",
          "name": "stdout",
          "text": [
            "accuracy of LR -0.006520744518225818\n",
            "accuracy of SVR -3.4804485196993085e-05\n",
            "accuracy of DT -0.558633904822958\n"
          ]
        }
      ]
    },
    {
      "cell_type": "code",
      "source": [
        "mtp.scatter(y_test,y_pred,color='red')\n",
        "mtp.scatter(y_test,y_pred1,color='green')\n",
        "mtp.scatter(y_test,y_pred2,color='blue')"
      ],
      "metadata": {
        "colab": {
          "base_uri": "https://localhost:8080/",
          "height": 282
        },
        "id": "6YV_LEKRL-qE",
        "outputId": "7d2be735-5189-4ac9-c643-1a0fb5c1dae2"
      },
      "execution_count": null,
      "outputs": [
        {
          "output_type": "execute_result",
          "data": {
            "text/plain": [
              "<matplotlib.collections.PathCollection at 0x7f7702d50100>"
            ]
          },
          "metadata": {},
          "execution_count": 144
        },
        {
          "output_type": "display_data",
          "data": {
            "text/plain": [
              "<Figure size 432x288 with 1 Axes>"
            ],
            "image/png": "[encoded data removed]"
          },
          "metadata": {
            "needs_background": "light"
          }
        }
      ]
    }
  ]
}